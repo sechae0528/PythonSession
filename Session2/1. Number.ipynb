{
 "cells": [
  {
   "cell_type": "markdown",
   "metadata": {},
   "source": [
    "### 예제 - 사칙연산"
   ]
  },
  {
   "cell_type": "code",
   "execution_count": 5,
   "metadata": {},
   "outputs": [
    {
     "name": "stdout",
     "output_type": "stream",
     "text": [
      "135.456\n",
      "1532.088\n",
      "9.8747591522158\n",
      "144\n",
      "3\n"
     ]
    }
   ],
   "source": [
    "#파이썬 사칙연산\n",
    "integer_value = 123\n",
    "float_value = 12.456\n",
    "# 1. 더하기 연산\n",
    "sum = integer_value+float_value\n",
    "print(sum)\n",
    "# 2. 곱하기 연산\n",
    "multiple = integer_value*float_value\n",
    "print(multiple)\n",
    "# 3. 나누기 연산\n",
    "division = integer_value/float_value\n",
    "print(division)\n",
    "# 4. 제곱연산\n",
    "integer_value2 = int(float_value)\n",
    "exponential = integer_value2**2\n",
    "print(exponential)\n",
    "# 5. 나머지 연산\n",
    "mod = integer_value%int(float_value)\n",
    "print(mod)"
   ]
  },
  {
   "cell_type": "markdown",
   "metadata": {},
   "source": [
    "### 실습 - 사칙연산"
   ]
  },
  {
   "cell_type": "code",
   "execution_count": 3,
   "metadata": {},
   "outputs": [
    {
     "name": "stdout",
     "output_type": "stream",
     "text": [
      "19\n"
     ]
    }
   ],
   "source": [
    "time = 7\n",
    "day = 12\n",
    "\n",
    "sumation = 7+12\n",
    "print(sumation)"
   ]
  },
  {
   "cell_type": "code",
   "execution_count": 38,
   "metadata": {},
   "outputs": [
    {
     "name": "stdout",
     "output_type": "stream",
     "text": [
      "14 시 1 일 합계는 ->  15\n"
     ]
    }
   ],
   "source": [
    "import datetime as dt\n",
    "\n",
    "s = dt.datetime.now()\n",
    "#시간정보\n",
    "time = s.hour\n",
    "date = s.day\n",
    "\n",
    "sumation = time+date\n",
    "print(time, \"시\", date, \"일\" , \"합계는 -> \", sumation)"
   ]
  },
  {
   "cell_type": "code",
   "execution_count": null,
   "metadata": {
    "collapsed": true
   },
   "outputs": [],
   "source": []
  }
 ],
 "metadata": {
  "kernelspec": {
   "display_name": "Python 3",
   "language": "python",
   "name": "python3"
  },
  "language_info": {
   "codemirror_mode": {
    "name": "ipython",
    "version": 3
   },
   "file_extension": ".py",
   "mimetype": "text/x-python",
   "name": "python",
   "nbconvert_exporter": "python",
   "pygments_lexer": "ipython3",
   "version": "3.6.3"
  }
 },
 "nbformat": 4,
 "nbformat_minor": 2
}
