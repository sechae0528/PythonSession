{
 "cells": [
  {
   "cell_type": "code",
   "execution_count": 1,
   "metadata": {},
   "outputs": [
    {
     "data": {
      "text/plain": [
       "'C:\\\\Users\\\\SMART-05\\\\Python Session\\\\Session1'"
      ]
     },
     "execution_count": 1,
     "metadata": {},
     "output_type": "execute_result"
    }
   ],
   "source": [
    "pwd"
   ]
  },
  {
   "cell_type": "markdown",
   "metadata": {},
   "source": [
    "# 1.numpy예제"
   ]
  },
  {
   "cell_type": "code",
   "execution_count": 4,
   "metadata": {
    "scrolled": true
   },
   "outputs": [],
   "source": [
    "#numpy 라이브러리 불러오기\n",
    "import numpy as np"
   ]
  },
  {
   "cell_type": "code",
   "execution_count": 41,
   "metadata": {},
   "outputs": [
    {
     "data": {
      "text/plain": [
       "array([[1., 2., 3.],\n",
       "       [4., 5., 6.]])"
      ]
     },
     "execution_count": 41,
     "metadata": {},
     "output_type": "execute_result"
    }
   ],
   "source": [
    "#함수 쓰고 shft + tab 을 누르면 쓸수 있는 항목이 나옴\n",
    "np.loadtxt('../dataset/testNumpy.txt', delimiter = ',')\n",
    "#np.loadtxt('../dataset/testNumpy.txt',skiprows=1,delimiter = ',')"
   ]
  },
  {
   "cell_type": "markdown",
   "metadata": {},
   "source": [
    "# 2. pandas예제"
   ]
  },
  {
   "cell_type": "code",
   "execution_count": 9,
   "metadata": {},
   "outputs": [],
   "source": [
    "import pandas_datareader.data as web"
   ]
  },
  {
   "cell_type": "code",
   "execution_count": 11,
   "metadata": {},
   "outputs": [],
   "source": [
    "import fix_yahoo_finance as yf"
   ]
  },
  {
   "cell_type": "code",
   "execution_count": 12,
   "metadata": {},
   "outputs": [],
   "source": [
    "yf.pdr_override()"
   ]
  },
  {
   "cell_type": "code",
   "execution_count": 13,
   "metadata": {},
   "outputs": [],
   "source": [
    "from datetime import date, timedelta"
   ]
  },
  {
   "cell_type": "code",
   "execution_count": 14,
   "metadata": {},
   "outputs": [],
   "source": [
    "import matplotlib.pyplot as plt"
   ]
  },
  {
   "cell_type": "code",
   "execution_count": 15,
   "metadata": {},
   "outputs": [],
   "source": [
    "import datetime"
   ]
  },
  {
   "cell_type": "code",
   "execution_count": 16,
   "metadata": {},
   "outputs": [
    {
     "name": "stdout",
     "output_type": "stream",
     "text": [
      "[*********************100%***********************]  1 of 1 downloaded\n"
     ]
    },
    {
     "data": {
      "text/html": [
       "<div>\n",
       "<style scoped>\n",
       "    .dataframe tbody tr th:only-of-type {\n",
       "        vertical-align: middle;\n",
       "    }\n",
       "\n",
       "    .dataframe tbody tr th {\n",
       "        vertical-align: top;\n",
       "    }\n",
       "\n",
       "    .dataframe thead th {\n",
       "        text-align: right;\n",
       "    }\n",
       "</style>\n",
       "<table border=\"1\" class=\"dataframe\">\n",
       "  <thead>\n",
       "    <tr style=\"text-align: right;\">\n",
       "      <th></th>\n",
       "      <th>Open</th>\n",
       "      <th>High</th>\n",
       "      <th>Low</th>\n",
       "      <th>Close</th>\n",
       "      <th>Adj Close</th>\n",
       "      <th>Volume</th>\n",
       "    </tr>\n",
       "    <tr>\n",
       "      <th>Date</th>\n",
       "      <th></th>\n",
       "      <th></th>\n",
       "      <th></th>\n",
       "      <th></th>\n",
       "      <th></th>\n",
       "      <th></th>\n",
       "    </tr>\n",
       "  </thead>\n",
       "  <tbody>\n",
       "    <tr>\n",
       "      <th>2017-04-03</th>\n",
       "      <td>41400.0</td>\n",
       "      <td>41720.0</td>\n",
       "      <td>41300.0</td>\n",
       "      <td>41440.0</td>\n",
       "      <td>10779.122070</td>\n",
       "      <td>9579400</td>\n",
       "    </tr>\n",
       "    <tr>\n",
       "      <th>2017-04-04</th>\n",
       "      <td>41600.0</td>\n",
       "      <td>42180.0</td>\n",
       "      <td>41520.0</td>\n",
       "      <td>42080.0</td>\n",
       "      <td>10945.595703</td>\n",
       "      <td>12255500</td>\n",
       "    </tr>\n",
       "    <tr>\n",
       "      <th>2017-04-05</th>\n",
       "      <td>41900.0</td>\n",
       "      <td>42240.0</td>\n",
       "      <td>41700.0</td>\n",
       "      <td>42140.0</td>\n",
       "      <td>10961.202148</td>\n",
       "      <td>10699700</td>\n",
       "    </tr>\n",
       "    <tr>\n",
       "      <th>2017-04-06</th>\n",
       "      <td>42000.0</td>\n",
       "      <td>42080.0</td>\n",
       "      <td>41600.0</td>\n",
       "      <td>41840.0</td>\n",
       "      <td>10883.167969</td>\n",
       "      <td>9683400</td>\n",
       "    </tr>\n",
       "    <tr>\n",
       "      <th>2017-04-07</th>\n",
       "      <td>41800.0</td>\n",
       "      <td>41820.0</td>\n",
       "      <td>41160.0</td>\n",
       "      <td>41600.0</td>\n",
       "      <td>10820.740234</td>\n",
       "      <td>10021000</td>\n",
       "    </tr>\n",
       "  </tbody>\n",
       "</table>\n",
       "</div>"
      ],
      "text/plain": [
       "               Open     High      Low    Close     Adj Close    Volume\n",
       "Date                                                                  \n",
       "2017-04-03  41400.0  41720.0  41300.0  41440.0  10779.122070   9579400\n",
       "2017-04-04  41600.0  42180.0  41520.0  42080.0  10945.595703  12255500\n",
       "2017-04-05  41900.0  42240.0  41700.0  42140.0  10961.202148  10699700\n",
       "2017-04-06  42000.0  42080.0  41600.0  41840.0  10883.167969   9683400\n",
       "2017-04-07  41800.0  41820.0  41160.0  41600.0  10820.740234  10021000"
      ]
     },
     "execution_count": 16,
     "metadata": {},
     "output_type": "execute_result"
    }
   ],
   "source": [
    "start = datetime.datetime(2017,4,1)\n",
    "end = date.today()\n",
    "\n",
    "SEC = web.get_data_yahoo(\"005930.KS\", start, end)\n",
    "SEC.head()"
   ]
  },
  {
   "cell_type": "code",
   "execution_count": 24,
   "metadata": {},
   "outputs": [
    {
     "name": "stdout",
     "output_type": "stream",
     "text": [
      "[*********************100%***********************]  1 of 1 downloaded\n"
     ]
    },
    {
     "data": {
      "text/html": [
       "<div>\n",
       "<style scoped>\n",
       "    .dataframe tbody tr th:only-of-type {\n",
       "        vertical-align: middle;\n",
       "    }\n",
       "\n",
       "    .dataframe tbody tr th {\n",
       "        vertical-align: top;\n",
       "    }\n",
       "\n",
       "    .dataframe thead th {\n",
       "        text-align: right;\n",
       "    }\n",
       "</style>\n",
       "<table border=\"1\" class=\"dataframe\">\n",
       "  <thead>\n",
       "    <tr style=\"text-align: right;\">\n",
       "      <th></th>\n",
       "      <th>Open</th>\n",
       "      <th>High</th>\n",
       "      <th>Low</th>\n",
       "      <th>Close</th>\n",
       "      <th>Adj Close</th>\n",
       "      <th>Volume</th>\n",
       "    </tr>\n",
       "    <tr>\n",
       "      <th>Date</th>\n",
       "      <th></th>\n",
       "      <th></th>\n",
       "      <th></th>\n",
       "      <th></th>\n",
       "      <th></th>\n",
       "      <th></th>\n",
       "    </tr>\n",
       "  </thead>\n",
       "  <tbody>\n",
       "    <tr>\n",
       "      <th>2017-04-03</th>\n",
       "      <td>41400.0</td>\n",
       "      <td>41720.0</td>\n",
       "      <td>41300.0</td>\n",
       "      <td>41440.0</td>\n",
       "      <td>10779.12207</td>\n",
       "      <td>9579400</td>\n",
       "    </tr>\n",
       "  </tbody>\n",
       "</table>\n",
       "</div>"
      ],
      "text/plain": [
       "               Open     High      Low    Close    Adj Close   Volume\n",
       "Date                                                                \n",
       "2017-04-03  41400.0  41720.0  41300.0  41440.0  10779.12207  9579400"
      ]
     },
     "execution_count": 24,
     "metadata": {},
     "output_type": "execute_result"
    }
   ],
   "source": [
    "import pandas_datareader.data as web\n",
    "import fix_yahoo_finance as yf\n",
    "yf.pdr_override()\n",
    "from datetime import date, timedelta\n",
    "import matplotlib.pyplot as plt\n",
    "import datetime\n",
    "\n",
    "start = datetime.datetime(2017,4,1)\n",
    "end = date.today()\n",
    "\n",
    "SEC = web.get_data_yahoo(\"005930.KS\", start, end)\n",
    "#다보여주고 싶을 때\n",
    "#SEC\n",
    "#한개만 보여주고 싶을 때,\n",
    "SEC.head(1)"
   ]
  },
  {
   "cell_type": "code",
   "execution_count": 25,
   "metadata": {},
   "outputs": [
    {
     "data": {
      "image/png": "[encoded data removed]",
      "text/plain": [
       "<matplotlib.figure.Figure at 0xab58518>"
      ]
     },
     "metadata": {},
     "output_type": "display_data"
    }
   ],
   "source": [
    "SEC['Close'].plot(style='--')\n",
    "plt.show()"
   ]
  },
  {
   "cell_type": "code",
   "execution_count": 26,
   "metadata": {},
   "outputs": [
    {
     "data": {
      "image/png": "[encoded data removed]",
      "text/plain": [
       "<matplotlib.figure.Figure at 0xa9706a0>"
      ]
     },
     "metadata": {},
     "output_type": "display_data"
    }
   ],
   "source": [
    "SEC['Close'].plot(style='*')\n",
    "plt.show()"
   ]
  },
  {
   "cell_type": "code",
   "execution_count": 33,
   "metadata": {},
   "outputs": [
    {
     "data": {
      "image/png": "[encoded data removed]",
      "text/plain": [
       "<matplotlib.figure.Figure at 0xb9b8080>"
      ]
     },
     "metadata": {},
     "output_type": "display_data"
    }
   ],
   "source": [
    "SEC['Close'].plot(style='-')\n",
    "plt.show()"
   ]
  },
  {
   "cell_type": "markdown",
   "metadata": {},
   "source": [
    "### 자신이 원하는 주식종목에 대한 데이터를 불러온 후 head 명령어를 통해 5개 데이터만\n",
    "### 테이블로 불러오세요"
   ]
  },
  {
   "cell_type": "code",
   "execution_count": 43,
   "metadata": {},
   "outputs": [
    {
     "data": {
      "text/html": [
       "<div>\n",
       "<style scoped>\n",
       "    .dataframe tbody tr th:only-of-type {\n",
       "        vertical-align: middle;\n",
       "    }\n",
       "\n",
       "    .dataframe tbody tr th {\n",
       "        vertical-align: top;\n",
       "    }\n",
       "\n",
       "    .dataframe thead th {\n",
       "        text-align: right;\n",
       "    }\n",
       "</style>\n",
       "<table border=\"1\" class=\"dataframe\">\n",
       "  <thead>\n",
       "    <tr style=\"text-align: right;\">\n",
       "      <th></th>\n",
       "      <th>회사명</th>\n",
       "      <th>종목코드</th>\n",
       "      <th>업종</th>\n",
       "      <th>주요제품</th>\n",
       "      <th>상장일</th>\n",
       "      <th>결산월</th>\n",
       "      <th>대표자명</th>\n",
       "      <th>홈페이지</th>\n",
       "      <th>지역</th>\n",
       "    </tr>\n",
       "  </thead>\n",
       "  <tbody>\n",
       "    <tr>\n",
       "      <th>0</th>\n",
       "      <td>AJ렌터카</td>\n",
       "      <td>068400</td>\n",
       "      <td>운송장비 임대업</td>\n",
       "      <td>승용자동차 임대</td>\n",
       "      <td>2012-07-27</td>\n",
       "      <td>12월</td>\n",
       "      <td>홍성관</td>\n",
       "      <td>http://www.ajrentacar.co.kr</td>\n",
       "      <td>서울특별시</td>\n",
       "    </tr>\n",
       "    <tr>\n",
       "      <th>1</th>\n",
       "      <td>E1</td>\n",
       "      <td>017940</td>\n",
       "      <td>기타 전문 도매업</td>\n",
       "      <td>LPG(프로판,부탄가스),가스기기판매</td>\n",
       "      <td>1997-08-27</td>\n",
       "      <td>12월</td>\n",
       "      <td>구자용 사장</td>\n",
       "      <td>http://www.e1.co.kr</td>\n",
       "      <td>서울특별시</td>\n",
       "    </tr>\n",
       "    <tr>\n",
       "      <th>2</th>\n",
       "      <td>GKL</td>\n",
       "      <td>114090</td>\n",
       "      <td>유원지 및 기타 오락관련 서비스업</td>\n",
       "      <td>카지노</td>\n",
       "      <td>2009-11-19</td>\n",
       "      <td>12월</td>\n",
       "      <td>이기우</td>\n",
       "      <td>http://www.grandkorea.com</td>\n",
       "      <td>서울특별시</td>\n",
       "    </tr>\n",
       "    <tr>\n",
       "      <th>3</th>\n",
       "      <td>KR모터스</td>\n",
       "      <td>000040</td>\n",
       "      <td>그외 기타 운송장비 제조업</td>\n",
       "      <td>이륜차(오토바이) 제조,도매</td>\n",
       "      <td>1976-05-25</td>\n",
       "      <td>12월</td>\n",
       "      <td>성상용, 서정민 (각자 대표이사)</td>\n",
       "      <td>http://www.krmotors.com</td>\n",
       "      <td>경상남도</td>\n",
       "    </tr>\n",
       "    <tr>\n",
       "      <th>4</th>\n",
       "      <td>LG화학</td>\n",
       "      <td>051910</td>\n",
       "      <td>기초 화학물질 제조업</td>\n",
       "      <td>유화/기능/합성수지,재생섬유소,산업재,리튬이온전지,평광판,PVC 제조,도매</td>\n",
       "      <td>2001-04-25</td>\n",
       "      <td>12월</td>\n",
       "      <td>박진수</td>\n",
       "      <td>http://www.lgchem.com</td>\n",
       "      <td>서울특별시</td>\n",
       "    </tr>\n",
       "  </tbody>\n",
       "</table>\n",
       "</div>"
      ],
      "text/plain": [
       "     회사명    종목코드                  업종  \\\n",
       "0  AJ렌터카  068400            운송장비 임대업   \n",
       "1     E1  017940           기타 전문 도매업   \n",
       "2    GKL  114090  유원지 및 기타 오락관련 서비스업   \n",
       "3  KR모터스  000040      그외 기타 운송장비 제조업   \n",
       "4   LG화학  051910         기초 화학물질 제조업   \n",
       "\n",
       "                                        주요제품         상장일  결산월  \\\n",
       "0                                   승용자동차 임대  2012-07-27  12월   \n",
       "1                       LPG(프로판,부탄가스),가스기기판매  1997-08-27  12월   \n",
       "2                                        카지노  2009-11-19  12월   \n",
       "3                            이륜차(오토바이) 제조,도매  1976-05-25  12월   \n",
       "4  유화/기능/합성수지,재생섬유소,산업재,리튬이온전지,평광판,PVC 제조,도매  2001-04-25  12월   \n",
       "\n",
       "                 대표자명                         홈페이지     지역  \n",
       "0                 홍성관  http://www.ajrentacar.co.kr  서울특별시  \n",
       "1              구자용 사장          http://www.e1.co.kr  서울특별시  \n",
       "2                 이기우    http://www.grandkorea.com  서울특별시  \n",
       "3  성상용, 서정민 (각자 대표이사)      http://www.krmotors.com   경상남도  \n",
       "4                 박진수        http://www.lgchem.com  서울특별시  "
      ]
     },
     "execution_count": 43,
     "metadata": {},
     "output_type": "execute_result"
    }
   ],
   "source": [
    "import urllib.parse\n",
    "import pandas as pd\n",
    "\n",
    "MARKET_CODE_DICT = {\n",
    "    'kospi': 'stockMkt',\n",
    "    'kosdaq': 'kosdaqMkt',\n",
    "    'konex': 'konexMkt'\n",
    "}\n",
    "\n",
    "DOWNLOAD_URL = 'kind.krx.co.kr/corpgeneral/corpList.do'\n",
    "\n",
    "def download_stock_codes(market=None, delisted=False):\n",
    "    params = {'method': 'download'}\n",
    "\n",
    "    if market.lower() in MARKET_CODE_DICT:\n",
    "        params['marketType'] = MARKET_CODE_DICT[market]\n",
    "\n",
    "    if not delisted:\n",
    "        params['searchType'] = 13\n",
    "\n",
    "    params_string = urllib.parse.urlencode(params)\n",
    "    request_url = urllib.parse.urlunsplit(['http', DOWNLOAD_URL, '', params_string, ''])\n",
    "\n",
    "    df = pd.read_html(request_url, header=0)[0]\n",
    "    df.종목코드 = df.종목코드.map('{:06d}'.format)\n",
    "\n",
    "    return df\n",
    "\n",
    "\n",
    "kosdaq_stocks = download_stock_codes('kospi')\n",
    "kosdaq_stocks.head()\n",
    "kosdaq_stocks.to_csv(\"d:/kospi.csv\", index=False, encoding=\"utf-8-sig\")\n",
    "#encoding=\"utf-8-sig\"\n",
    "type(kosdaq_stocks)\n",
    "kosdaq_stocks.head(5)"
   ]
  },
  {
   "cell_type": "markdown",
   "metadata": {},
   "source": [
    "# 3. matplotlib 예제"
   ]
  },
  {
   "cell_type": "code",
   "execution_count": 44,
   "metadata": {},
   "outputs": [],
   "source": [
    "#pip install matplotlib\n",
    "#https://matplotlib.org/gallery/index.html\n",
    "import matplotlib.pyplot as plt"
   ]
  },
  {
   "cell_type": "code",
   "execution_count": 45,
   "metadata": {},
   "outputs": [],
   "source": [
    "#바로 차트가 시현되도록 설정\n",
    "%matplotlib inline"
   ]
  },
  {
   "cell_type": "code",
   "execution_count": 46,
   "metadata": {},
   "outputs": [
    {
     "name": "stdout",
     "output_type": "stream",
     "text": [
      "[0.  0.5 1.  1.5 2.  2.5 3.  3.5 4.  4.5 5. ]\n",
      "[ 0.    0.25  1.    2.25  4.    6.25  9.   12.25 16.   20.25 25.  ]\n"
     ]
    }
   ],
   "source": [
    "import numpy as np\n",
    "# 0, 5 사이에 11개의 점을 생성한다\n",
    "x = np.linspace(0,5,11)\n",
    "print(x)\n",
    "# y = x의 제곱\n",
    "y = x ** 2\n",
    "print(y)"
   ]
  },
  {
   "cell_type": "code",
   "execution_count": 47,
   "metadata": {},
   "outputs": [
    {
     "data": {
      "text/plain": [
       "[<matplotlib.lines.Line2D at 0xbd1a278>]"
      ]
     },
     "execution_count": 47,
     "metadata": {},
     "output_type": "execute_result"
    },
    {
     "data": {
      "image/png": "[encoded data removed]",
      "text/plain": [
       "<matplotlib.figure.Figure at 0xc695e10>"
      ]
     },
     "metadata": {},
     "output_type": "display_data"
    }
   ],
   "source": [
    "#시각화\n",
    "plt.plot(x,y)"
   ]
  },
  {
   "cell_type": "markdown",
   "metadata": {},
   "source": [
    "# 4.scikit-learn 예제 (머신러닝)"
   ]
  },
  {
   "cell_type": "code",
   "execution_count": null,
   "metadata": {},
   "outputs": [],
   "source": [
    "#싸이킷 런 - 파이썬 머신러닝 라이브러리 정석 / 분류,회귀, 클러스터링 지원 및 결과검증 기능 제공 \n",
    "#관련문서 : http://scikit-learn.org/stable/documentation\n",
    "#사용자가이드 : http://scikit-learn.org/stable/modules/classes.html"
   ]
  },
  {
   "cell_type": "code",
   "execution_count": null,
   "metadata": {},
   "outputs": [],
   "source": [
    "#pip3 install –U scikit-learn scipy matplotlib scikit-image\n",
    "#pip install –U scikit-learn\n",
    "#pip install pandas"
   ]
  },
  {
   "cell_type": "code",
   "execution_count": null,
   "metadata": {},
   "outputs": [],
   "source": [
    "#pandas 패키지 불러오기\n",
    "import pandas as pd\n",
    "from sklearn.cluster import KMeans\n",
    "import matplotlib.pyplot as plt\n",
    "#CSV 파일을 읽어 Data Frame 변수에 저장하기\n",
    "studentData = pd.read_csv(\"../dataset/student_middle_result.csv\")\n",
    "\n",
    "name = studentData[['ST_NO']]\n",
    "feature = studentData[['SW', 'DB', 'AND']]\n",
    "\n",
    "#create model and prediction\n",
    "model = KMeans(n_clusters=2,algorithm='auto')\n",
    "model.fit(feature)\n",
    "predict = pd.DataFrame(model.predict(feature))\n",
    "predict.columns = ['PREDICT']\n",
    "\n",
    "#concatenate labels to df as a new column\n",
    "r = pd.concat([name, feature, predict], axis = 1)\n",
    "\n",
    "#scatter plot\n",
    "plt.scatter(r['DB'], r['AND'], c=r['PREDICT'], alpha = 0.5)\n",
    "#plt.scatter(center_x,center_y, s =50, marker='D',c='r')\n",
    "plt.show()\n",
    "\n",
    "#로컬에 저장할 때,\n",
    "r.to_csv(\"d:/result.csv\")"
   ]
  },
  {
   "cell_type": "code",
   "execution_count": 1,
   "metadata": {},
   "outputs": [],
   "source": [
    "#pandas 라이브러리\n",
    "import pandas as pd\n",
    "#머신러닝 라이브러리\n",
    "from sklearn.cluster import KMeans\n",
    "#시각화 라이브러리\n",
    "import matplotlib.pyplot as plt"
   ]
  },
  {
   "cell_type": "code",
   "execution_count": 2,
   "metadata": {},
   "outputs": [
    {
     "data": {
      "text/plain": [
       "'C:\\\\Users\\\\SMART-05\\\\Python Session\\\\Session1'"
      ]
     },
     "execution_count": 2,
     "metadata": {},
     "output_type": "execute_result"
    }
   ],
   "source": [
    "pwd"
   ]
  },
  {
   "cell_type": "code",
   "execution_count": 38,
   "metadata": {},
   "outputs": [
    {
     "data": {
      "text/html": [
       "<div>\n",
       "<style scoped>\n",
       "    .dataframe tbody tr th:only-of-type {\n",
       "        vertical-align: middle;\n",
       "    }\n",
       "\n",
       "    .dataframe tbody tr th {\n",
       "        vertical-align: top;\n",
       "    }\n",
       "\n",
       "    .dataframe thead th {\n",
       "        text-align: right;\n",
       "    }\n",
       "</style>\n",
       "<table border=\"1\" class=\"dataframe\">\n",
       "  <thead>\n",
       "    <tr style=\"text-align: right;\">\n",
       "      <th></th>\n",
       "      <th>SEPALLENGTH</th>\n",
       "      <th>SEPALWIDTH</th>\n",
       "      <th>PETALLENGTH</th>\n",
       "      <th>PETALWIDTH</th>\n",
       "      <th>SPECIES</th>\n",
       "    </tr>\n",
       "  </thead>\n",
       "  <tbody>\n",
       "    <tr>\n",
       "      <th>149</th>\n",
       "      <td>5.9</td>\n",
       "      <td>3.0</td>\n",
       "      <td>5.1</td>\n",
       "      <td>1.8</td>\n",
       "      <td>virginica</td>\n",
       "    </tr>\n",
       "  </tbody>\n",
       "</table>\n",
       "</div>"
      ],
      "text/plain": [
       "     SEPALLENGTH  SEPALWIDTH  PETALLENGTH  PETALWIDTH    SPECIES\n",
       "149          5.9         3.0          5.1         1.8  virginica"
      ]
     },
     "execution_count": 38,
     "metadata": {},
     "output_type": "execute_result"
    }
   ],
   "source": [
    "studentData=pd.read_csv(\"../dataset/IRIS.csv\")\n",
    "studentData.tail(1)"
   ]
  },
  {
   "cell_type": "code",
   "execution_count": 33,
   "metadata": {},
   "outputs": [
    {
     "data": {
      "text/html": [
       "<div>\n",
       "<style scoped>\n",
       "    .dataframe tbody tr th:only-of-type {\n",
       "        vertical-align: middle;\n",
       "    }\n",
       "\n",
       "    .dataframe tbody tr th {\n",
       "        vertical-align: top;\n",
       "    }\n",
       "\n",
       "    .dataframe thead th {\n",
       "        text-align: right;\n",
       "    }\n",
       "</style>\n",
       "<table border=\"1\" class=\"dataframe\">\n",
       "  <thead>\n",
       "    <tr style=\"text-align: right;\">\n",
       "      <th></th>\n",
       "      <th>SPECIES</th>\n",
       "    </tr>\n",
       "  </thead>\n",
       "  <tbody>\n",
       "    <tr>\n",
       "      <th>0</th>\n",
       "      <td>setosa</td>\n",
       "    </tr>\n",
       "  </tbody>\n",
       "</table>\n",
       "</div>"
      ],
      "text/plain": [
       "  SPECIES\n",
       "0  setosa"
      ]
     },
     "execution_count": 33,
     "metadata": {},
     "output_type": "execute_result"
    }
   ],
   "source": [
    "name = studentData[['SPECIES']]\n",
    "name.head(1)"
   ]
  },
  {
   "cell_type": "code",
   "execution_count": 42,
   "metadata": {},
   "outputs": [
    {
     "data": {
      "text/html": [
       "<div>\n",
       "<style scoped>\n",
       "    .dataframe tbody tr th:only-of-type {\n",
       "        vertical-align: middle;\n",
       "    }\n",
       "\n",
       "    .dataframe tbody tr th {\n",
       "        vertical-align: top;\n",
       "    }\n",
       "\n",
       "    .dataframe thead th {\n",
       "        text-align: right;\n",
       "    }\n",
       "</style>\n",
       "<table border=\"1\" class=\"dataframe\">\n",
       "  <thead>\n",
       "    <tr style=\"text-align: right;\">\n",
       "      <th></th>\n",
       "      <th>PETALWIDTH</th>\n",
       "      <th>PETALLENGTH</th>\n",
       "    </tr>\n",
       "  </thead>\n",
       "  <tbody>\n",
       "    <tr>\n",
       "      <th>0</th>\n",
       "      <td>0.2</td>\n",
       "      <td>1.4</td>\n",
       "    </tr>\n",
       "  </tbody>\n",
       "</table>\n",
       "</div>"
      ],
      "text/plain": [
       "   PETALWIDTH  PETALLENGTH\n",
       "0         0.2          1.4"
      ]
     },
     "execution_count": 42,
     "metadata": {},
     "output_type": "execute_result"
    }
   ],
   "source": [
    "feature = studentData[['PETALWIDTH', 'PETALLENGTH']]\n",
    "feature.head(1)"
   ]
  },
  {
   "cell_type": "code",
   "execution_count": 43,
   "metadata": {},
   "outputs": [
    {
     "data": {
      "text/plain": [
       "KMeans(algorithm='auto', copy_x=True, init='k-means++', max_iter=300,\n",
       "    n_clusters=3, n_init=10, n_jobs=1, precompute_distances='auto',\n",
       "    random_state=None, tol=0.0001, verbose=0)"
      ]
     },
     "execution_count": 43,
     "metadata": {},
     "output_type": "execute_result"
    }
   ],
   "source": [
    "#model구동 kmeans\n",
    "model = KMeans(n_clusters=3,algorithm='auto')\n",
    "model.fit(feature)"
   ]
  },
  {
   "cell_type": "code",
   "execution_count": 44,
   "metadata": {},
   "outputs": [
    {
     "data": {
      "text/html": [
       "<div>\n",
       "<style scoped>\n",
       "    .dataframe tbody tr th:only-of-type {\n",
       "        vertical-align: middle;\n",
       "    }\n",
       "\n",
       "    .dataframe tbody tr th {\n",
       "        vertical-align: top;\n",
       "    }\n",
       "\n",
       "    .dataframe thead th {\n",
       "        text-align: right;\n",
       "    }\n",
       "</style>\n",
       "<table border=\"1\" class=\"dataframe\">\n",
       "  <thead>\n",
       "    <tr style=\"text-align: right;\">\n",
       "      <th></th>\n",
       "      <th>PREDICT</th>\n",
       "    </tr>\n",
       "  </thead>\n",
       "  <tbody>\n",
       "    <tr>\n",
       "      <th>0</th>\n",
       "      <td>0</td>\n",
       "    </tr>\n",
       "    <tr>\n",
       "      <th>1</th>\n",
       "      <td>0</td>\n",
       "    </tr>\n",
       "    <tr>\n",
       "      <th>2</th>\n",
       "      <td>0</td>\n",
       "    </tr>\n",
       "    <tr>\n",
       "      <th>3</th>\n",
       "      <td>0</td>\n",
       "    </tr>\n",
       "    <tr>\n",
       "      <th>4</th>\n",
       "      <td>0</td>\n",
       "    </tr>\n",
       "  </tbody>\n",
       "</table>\n",
       "</div>"
      ],
      "text/plain": [
       "   PREDICT\n",
       "0        0\n",
       "1        0\n",
       "2        0\n",
       "3        0\n",
       "4        0"
      ]
     },
     "execution_count": 44,
     "metadata": {},
     "output_type": "execute_result"
    }
   ],
   "source": [
    "predict = pd.DataFrame(model.predict(feature))\n",
    "#predict 이름을 바꿈\n",
    "predict.columns = ['PREDICT']\n",
    "predict.head()"
   ]
  },
  {
   "cell_type": "code",
   "execution_count": 45,
   "metadata": {},
   "outputs": [
    {
     "data": {
      "text/html": [
       "<div>\n",
       "<style scoped>\n",
       "    .dataframe tbody tr th:only-of-type {\n",
       "        vertical-align: middle;\n",
       "    }\n",
       "\n",
       "    .dataframe tbody tr th {\n",
       "        vertical-align: top;\n",
       "    }\n",
       "\n",
       "    .dataframe thead th {\n",
       "        text-align: right;\n",
       "    }\n",
       "</style>\n",
       "<table border=\"1\" class=\"dataframe\">\n",
       "  <thead>\n",
       "    <tr style=\"text-align: right;\">\n",
       "      <th></th>\n",
       "      <th>SPECIES</th>\n",
       "      <th>PETALWIDTH</th>\n",
       "      <th>PETALLENGTH</th>\n",
       "      <th>PREDICT</th>\n",
       "    </tr>\n",
       "  </thead>\n",
       "  <tbody>\n",
       "    <tr>\n",
       "      <th>0</th>\n",
       "      <td>setosa</td>\n",
       "      <td>0.2</td>\n",
       "      <td>1.4</td>\n",
       "      <td>0</td>\n",
       "    </tr>\n",
       "  </tbody>\n",
       "</table>\n",
       "</div>"
      ],
      "text/plain": [
       "  SPECIES  PETALWIDTH  PETALLENGTH  PREDICT\n",
       "0  setosa         0.2          1.4        0"
      ]
     },
     "execution_count": 45,
     "metadata": {},
     "output_type": "execute_result"
    }
   ],
   "source": [
    "r = pd.concat([name, feature, predict], axis = 1) \n",
    "r.head(1)"
   ]
  },
  {
   "cell_type": "code",
   "execution_count": 48,
   "metadata": {},
   "outputs": [
    {
     "data": {
      "image/png": "[encoded data removed]",
      "text/plain": [
       "<matplotlib.figure.Figure at 0xbfd2470>"
      ]
     },
     "metadata": {},
     "output_type": "display_data"
    }
   ],
   "source": [
    "#결과데이터 시각화\n",
    "plt.scatter(r['PETALLENGTH'], r['PETALWIDTH'], c=r['PREDICT'], alpha = 0.5)\n",
    "#plt.scatter(center_x,center_y, s =50, marker='D',c='r')\n",
    "plt.show()"
   ]
  },
  {
   "cell_type": "code",
   "execution_count": 19,
   "metadata": {},
   "outputs": [],
   "source": [
    "r.to_csv(\"d:/result.csv\")"
   ]
  },
  {
   "cell_type": "markdown",
   "metadata": {},
   "source": [
    "# 5. tensorflow"
   ]
  },
  {
   "cell_type": "code",
   "execution_count": 1,
   "metadata": {},
   "outputs": [],
   "source": [
    "#대규모 숫자 계산을 해주는 라이브러리\n",
    "#다차원 행렬연산에 적합한\n",
    "#pip3 install --upgrade tensorflow\n",
    "#pip install dask --upgrade"
   ]
  },
  {
   "cell_type": "code",
   "execution_count": 13,
   "metadata": {},
   "outputs": [
    {
     "name": "stdout",
     "output_type": "stream",
     "text": [
      "390\n"
     ]
    }
   ],
   "source": [
    "#텐서플로우 라이브러리 정의\n",
    "import tensorflow as tf\n",
    "\n",
    "#t상수 정의\n",
    "a = tf.constant(120, name = \"a\")\n",
    "b = tf.constant(130, name = \"b\")\n",
    "c = tf.constant(140, name = \"v\")\n",
    "\n",
    "#변수정의하기\n",
    "v = tf.Variable(0, name = \"v\")\n",
    "\n",
    "#데이터플로우 그래프 정의하기\n",
    "calc_op = a+b+c\n",
    "#a+b+c연산 후 v에 값 저장\n",
    "assign_op = tf.assign(v, calc_op)\n",
    "\n",
    "#세션 시작하기\n",
    "sess = tf.Session()\n",
    "sess.run(assign_op)\n",
    "\n",
    "print(sess.run(v))"
   ]
  }
 ],
 "metadata": {
  "kernelspec": {
   "display_name": "Python 3",
   "language": "python",
   "name": "python3"
  },
  "language_info": {
   "codemirror_mode": {
    "name": "ipython",
    "version": 3
   },
   "file_extension": ".py",
   "mimetype": "text/x-python",
   "name": "python",
   "nbconvert_exporter": "python",
   "pygments_lexer": "ipython3",
   "version": "3.6.4"
  }
 },
 "nbformat": 4,
 "nbformat_minor": 2
}
